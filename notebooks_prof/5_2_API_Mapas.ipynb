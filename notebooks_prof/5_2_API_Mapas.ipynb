{
  "cells": [
    {
      "cell_type": "markdown",
      "metadata": {
        "id": "U1OPF6Ox8nUs"
      },
      "source": [
        "# Aula 5.2: Combinando clustering e criando mapas com a API do IBGE\n",
        "\n",
        "Na aula anterior, vimos alguns conceitos importantes sobre clustering a partir de bases de dados.*texto em itálico*\n",
        "\n",
        "Neste exercício, iremos reutilizar a [API do IBGE](https://servicodados.ibge.gov.br/api/docs/) para construir mapas a partir de shapes. Isso é particularmente útil quando queremos trabalhar com shapes complexos no ambiente do colab em vez de fazer o processo manual de importar os shapes. \n",
        "\n",
        "A [API de malhas](https://servicodados.ibge.gov.br/api/docs/malhas?versao=3) provê malhas simplificadas referentes às unidades político-administrativas do Brasil bem como meso e microrregiões, institucionalizadas pela aprovação da presidência do IBGE da resolução PR nº 51/1989 e pela publicação Divisão regional do Brasil em mesorregiões e microrregiões geográficas, desenvolvidas a partir das malhas originais do IBGE.\n",
        "\n",
        "Seu uso é ideal para aplicações web, em que imagens leves fazem com que as páginas sejam carregadas rapidamente. Caso contrário, se fosse usada a malha original, o carregamento da página faria com que seu uso ficasse inviável. Outro caso de uso de malhas simplificadas é para impressos em que seja aceitável um nível de detalhamento simplificado ou por causa de restrições de processamento do computador, na qual uma malha original poderia consumir recursos computacionais a ponto de prejudicar o processamento.\n",
        "\n",
        "Os tipos de dados comuns de exportação são: `json`, `geojson` e `svg`. \n",
        "\n",
        "Vamos tentar obter a malha de shapes por municípío, usando a própria [query builder](https://servicodados.ibge.gov.br/api/docs/malhas?versao=3#api-bq) da API\n"
      ]
    },
    {
      "cell_type": "code",
      "source": [
        "import requests                    # api module\n",
        "import json\n",
        "import pandas as pd\n",
        "\n",
        "#Obtendo os shapes\n",
        "url = 'https://servicodados.ibge.gov.br/api/v3/malhas/estados/23?formato=application/vnd.geo+json&qualidade=minima&intrarregiao=municipio'\n",
        "response = requests.get(url)\n",
        "shapesJson = response.json()\n",
        "print(shapesJson)"
      ],
      "metadata": {
        "id": "gpp8WIQ7F_GW"
      },
      "execution_count": null,
      "outputs": []
    },
    {
      "cell_type": "markdown",
      "source": [
        "Excelente, conseguimos carregar o arquivo .geoson relativo aos shapes dos municípios do estado do ceará. Podemos editar a query passando como parâmetro algum outro valor de identificador de estado.\n",
        "\n",
        "Vamos novamente obter o PIB per capita do estado do ceará:"
      ],
      "metadata": {
        "id": "OZUsH67Rauy9"
      }
    },
    {
      "cell_type": "code",
      "source": [
        "#Obtendo os PIB per capita\n",
        "url = 'https://servicodados.ibge.gov.br/api/v3/agregados/3974/periodos/2010/variaveis/3948?localidades=N6[N3[23]]&classificacao=12085[100543]|58[95253]'\n",
        "response = requests.get(url)\n",
        "pib = response.json()\n",
        "for item in pib:\n",
        "  for key in item['resultados']:\n",
        "    pibJson = key\n",
        "pibJson.pop('classificacoes')\n",
        "dfPIB = pd.json_normalize(pibJson['series'])\n",
        "dfPIB.head()"
      ],
      "metadata": {
        "id": "Uj94dQ56EZc1"
      },
      "execution_count": null,
      "outputs": []
    },
    {
      "cell_type": "markdown",
      "source": [
        "Vamos fazer alguns ajustes no dataframe importado:"
      ],
      "metadata": {
        "id": "a1P3HiE5dUcV"
      }
    },
    {
      "cell_type": "code",
      "source": [
        "dfPIB[['CIDADE','UF']] = dfPIB[dfPIB.columns[3]].str.split(' - ',1).tolist()\n",
        "dfPIB.head()"
      ],
      "metadata": {
        "id": "ezjiycr-FKHY"
      },
      "execution_count": null,
      "outputs": []
    },
    {
      "cell_type": "code",
      "source": [
        "dfPIB.drop(columns=[dfPIB.columns[1],\n",
        "                    dfPIB.columns[2],\n",
        "                    dfPIB.columns[3]],\n",
        "           inplace=True)\n",
        "dfPIB.rename(columns = {dfPIB.columns[0]:'ID', \n",
        "                       dfPIB.columns[1]: 'PIB'},\n",
        "             inplace = True)\n",
        "dfPIB.set_index('ID', inplace = True)\n",
        "dfPIB['PIB']=dfPIB['PIB'].astype(float)\n",
        "dfPIB.head()"
      ],
      "metadata": {
        "id": "Z9yhDnziEnUi"
      },
      "execution_count": null,
      "outputs": []
    },
    {
      "cell_type": "markdown",
      "source": [
        "Agora iremos combinar o arquivo de shapes importado e os PIBs per capitas em um mapa cloroplético:"
      ],
      "metadata": {
        "id": "kpjiOvdZdciq"
      }
    },
    {
      "cell_type": "code",
      "source": [
        "import plotly.express as px\n",
        "from plotly.offline import init_notebook_mode, plot, iplot, download_plotlyjs\n",
        "br_lat = -6\n",
        "br_lon = -38.0\n",
        "brazilMap = px.choropleth_mapbox(dfPIB,\n",
        "                geojson=shapesJson, \n",
        "                locations=dfPIB.index,\n",
        "                hover_name = 'CIDADE',\n",
        "                color='PIB', \n",
        "                color_continuous_scale=\"Viridis\",\n",
        "                featureidkey=\"properties.codarea\",\n",
        "                )\n",
        "brazilMap.update_layout(mapbox_style=\"open-street-map\", \n",
        "                            mapbox_zoom=5, \n",
        "                            mapbox_center = {\"lat\": br_lat, \"lon\": br_lon},\n",
        "                            title=\"PIB per capita - Estado do Ceará\")\n",
        "brazilMap.show()"
      ],
      "metadata": {
        "id": "cmB4MMF0dtUW"
      },
      "execution_count": null,
      "outputs": []
    },
    {
      "cell_type": "markdown",
      "source": [
        "Veja que a qualidade escolhida para importação do arquivo geojson foi mantida em `mínima`. Vamos utilizar um arquivo na qualidade máxima."
      ],
      "metadata": {
        "id": "UsRaKm6Efu2i"
      }
    },
    {
      "cell_type": "code",
      "source": [
        "import requests                    # api module\n",
        "import json\n",
        "import pandas as pd\n",
        "\n",
        "#Obtendo os shapes\n",
        "url = 'https://servicodados.ibge.gov.br/api/v3/malhas/estados/23?formato=application/vnd.geo+json&qualidade=maxima&intrarregiao=municipio'\n",
        "response = requests.get(url)\n",
        "shapesJson = response.json()\n",
        "print(shapesJson)"
      ],
      "metadata": {
        "id": "mOide4o4fvQ_"
      },
      "execution_count": null,
      "outputs": []
    },
    {
      "cell_type": "markdown",
      "source": [
        "Vamos aproveitar para modificar a escala de cores do mapa, de acordo com a [documentação do plotly](https://plotly.com/python/builtin-colorscales/):"
      ],
      "metadata": {
        "id": "lnr5PYRJgmSv"
      }
    },
    {
      "cell_type": "code",
      "source": [
        "import plotly.express as px\n",
        "from plotly.offline import init_notebook_mode, plot, iplot, download_plotlyjs\n",
        "br_lat = -6\n",
        "br_lon = -38.0\n",
        "brazilMap = px.choropleth_mapbox(dfPIB,\n",
        "                geojson=shapesJson, \n",
        "                locations=dfPIB.index,\n",
        "                hover_name = 'CIDADE',\n",
        "                color='PIB', \n",
        "                color_continuous_scale=\"YlGnBu\",\n",
        "                featureidkey=\"properties.codarea\",\n",
        "                )\n",
        "brazilMap.update_layout(mapbox_style=\"open-street-map\", \n",
        "                            mapbox_zoom=5, \n",
        "                            mapbox_center = {\"lat\": br_lat, \"lon\": br_lon},\n",
        "                            title=\"PIB per capita - Estado do Ceará\")\n",
        "brazilMap.show()"
      ],
      "metadata": {
        "id": "dSCGSpBzgGbG"
      },
      "execution_count": null,
      "outputs": []
    },
    {
      "cell_type": "markdown",
      "source": [
        "Você consegue notar alguma diferença?"
      ],
      "metadata": {
        "id": "D5XuevyUgHKP"
      }
    },
    {
      "cell_type": "markdown",
      "source": [
        "Voltaremos a fazer um clustering entre as cidades des estados do CE e PE. Voltaremos ao shape antigo, menos complexo:"
      ],
      "metadata": {
        "id": "f28Cyq4HhWz2"
      }
    },
    {
      "cell_type": "code",
      "source": [
        "import requests                    # api module\n",
        "import json\n",
        "import pandas as pd\n",
        "\n",
        "#Obtendo os shapes\n",
        "url = 'https://servicodados.ibge.gov.br/api/v3/malhas/estados/23?formato=application/vnd.geo+json&qualidade=minima&intrarregiao=municipio'\n",
        "response = requests.get(url)\n",
        "shapesJsonCE = response.json()\n",
        "\n",
        "\n",
        "#Obtendo os shapes\n",
        "url = 'https://servicodados.ibge.gov.br/api/v3/malhas/estados/26?formato=application/vnd.geo+json&qualidade=minima&intrarregiao=municipio'\n",
        "response = requests.get(url)\n",
        "shapesJsonPE = response.json()"
      ],
      "metadata": {
        "id": "0vs-DOkaNw4u"
      },
      "execution_count": null,
      "outputs": []
    },
    {
      "cell_type": "markdown",
      "source": [
        "Aqui, obtivemos dois shapes dos dois estados (CE e PE). Iremos junta-los em um só:"
      ],
      "metadata": {
        "id": "LLrdWLYShh0W"
      }
    },
    {
      "cell_type": "code",
      "source": [
        "shapesJson['features'] = shapesJsonCE['features'] + shapesJsonPE['features']"
      ],
      "metadata": {
        "id": "w5v9TKAbO1kN"
      },
      "execution_count": null,
      "outputs": []
    },
    {
      "cell_type": "markdown",
      "source": [
        "Agora, iremos obter novamente os dados de PIB per capita dos estados:"
      ],
      "metadata": {
        "id": "WozgVV67hq4m"
      }
    },
    {
      "cell_type": "code",
      "source": [
        "# Obtendo os dados per capita - ceará e pernambuco\n",
        "url = 'https://servicodados.ibge.gov.br/api/v3/agregados/3974/periodos/2010/variaveis/3948?localidades=N6[N3[23,26]]&classificacao=12085[100543]|58[95253]'\n",
        "response = requests.get(url)\n",
        "pib = response.json()\n",
        "for item in pib:\n",
        "  for key in item['resultados']:\n",
        "    pibJson = key\n",
        "pibJson.pop('classificacoes')\n",
        "dfPIB = pd.json_normalize(pibJson['series'])\n",
        "dfPIB[['CIDADE','UF']] = dfPIB[dfPIB.columns[3]].str.split(' - ',1).tolist()\n",
        "dfPIB.drop(columns=[dfPIB.columns[1],\n",
        "                    dfPIB.columns[2],\n",
        "                    dfPIB.columns[3]],\n",
        "           inplace=True)\n",
        "dfPIB.rename(columns = {dfPIB.columns[0]:'ID', \n",
        "                       dfPIB.columns[1]: 'PIB'},\n",
        "             inplace = True)\n",
        "dfPIB.set_index('ID', inplace = True)\n",
        "new_columns = (dfPIB.columns.drop('PIB').tolist()) + ['PIB']\n",
        "dfPIB = dfPIB[new_columns]\n",
        "dfPIB.head()"
      ],
      "metadata": {
        "id": "ZpKF8RcQQSdx"
      },
      "execution_count": null,
      "outputs": []
    },
    {
      "cell_type": "markdown",
      "source": [
        "Vamos obter também as informações de densidade populacional:"
      ],
      "metadata": {
        "id": "EY5WnHNLhyyH"
      }
    },
    {
      "cell_type": "code",
      "source": [
        "# Obtendo a densidade populacional: Ceará e Pernambuco\n",
        "url = \"https://servicodados.ibge.gov.br/api/v3/agregados/1301/periodos/2010/variaveis/616?localidades=N6[N3[23,26]]\"\n",
        "\n",
        "response = requests.get(url)\n",
        "dens = response.json()\n",
        "for item in dens:\n",
        "  for key in item['resultados']:\n",
        "    densJson = key\n",
        "densJson.pop('classificacoes')\n",
        "dfDens = pd.json_normalize(densJson['series'])\n",
        "dfDens.drop(columns=[dfDens.columns[1],\n",
        "                    dfDens.columns[2],\n",
        "                    dfDens.columns[3]],\n",
        "           inplace=True)\n",
        "dfDens.rename(columns = {dfDens.columns[0]:'ID', \n",
        "                       dfDens.columns[1]: 'DENS'},\n",
        "             inplace = True)\n",
        "dfDens.set_index('ID', inplace = True)\n",
        "dfDens.head()"
      ],
      "metadata": {
        "id": "Y8m0wCxsPuPg"
      },
      "execution_count": null,
      "outputs": []
    },
    {
      "cell_type": "markdown",
      "source": [
        "Vamos concatenar esses dados em um único dataframe:"
      ],
      "metadata": {
        "id": "tT-g4GNqh58p"
      }
    },
    {
      "cell_type": "code",
      "source": [
        "dfPIBDens = pd.merge(dfPIB, dfDens, on=\"ID\")\n",
        "dfPIBDens[['PIB','DENS']]=dfPIBDens[['PIB','DENS']].astype(float)\n",
        "dfPIBDens.head()"
      ],
      "metadata": {
        "id": "sD4pL_QDQ72p"
      },
      "execution_count": null,
      "outputs": []
    },
    {
      "cell_type": "markdown",
      "source": [
        "Vamos aplicar o mesmo método para clusterização da aula anterior:"
      ],
      "metadata": {
        "id": "IQID7udDiJ5C"
      }
    },
    {
      "cell_type": "code",
      "source": [
        "X = dfPIBDens[['DENS', 'PIB']].to_numpy()"
      ],
      "metadata": {
        "id": "ZTYVp-L2Pmxq"
      },
      "execution_count": null,
      "outputs": []
    },
    {
      "cell_type": "markdown",
      "source": [
        "Vamos usar o KMeans da ScikitLearn:"
      ],
      "metadata": {
        "id": "Lnj_FvZnimpx"
      }
    },
    {
      "cell_type": "code",
      "source": [
        "from sklearn.cluster import KMeans\n",
        "\n",
        "cl = KMeans(n_clusters=8, random_state=0).fit(X)\n",
        "clusters = pd.DataFrame(cl.labels_, columns=['cluster'])\n",
        "detail = pd.merge(left=dfPIBDens.reset_index(), right=clusters, left_index=True, right_index=True)\n",
        "\n",
        "fig, ax = plt.subplots(figsize=(15,6))\n",
        "ax.set(xscale=\"log\", yscale=\"log\")\n",
        "\n",
        "sns.scatterplot(ax=ax, x='DENS', y='PIB', hue='cluster', data=detail)\n",
        "\n",
        "for x,y,t in zip(detail['DENS'], detail['PIB'], detail['CIDADE']):\n",
        "    if y > 450:\n",
        "        ax.text(x-10, y-1, t)\n",
        "\n",
        "ax.set_xlabel('Densidade (hab/km2)')\n",
        "ax.set_ylabel('PIB per Capita')\n",
        "#ax.set_xlim(10, 500)\n",
        "#ax.set_ylim(300, 1100)\n",
        "sns.despine(ax=ax)\n",
        "ax.legend(frameon=False)\n",
        "\n",
        "plt.show()"
      ],
      "metadata": {
        "id": "LHGYDOkpbFyq"
      },
      "execution_count": null,
      "outputs": []
    },
    {
      "cell_type": "markdown",
      "source": [
        "Vamos observar a geografia dos clusters obtidos pelo KMeans.\n"
      ],
      "metadata": {
        "id": "voUG8evAoG_m"
      }
    },
    {
      "cell_type": "code",
      "source": [
        "import plotly.express as px\n",
        "from plotly.offline import init_notebook_mode, plot, iplot, download_plotlyjs\n",
        "\n",
        "# detail['cluster'] = detail['cluster'].astype(str)\n",
        "\n",
        "br_lat = -6\n",
        "br_lon = -38.0\n",
        "brazilMap = px.choropleth_mapbox(detail,\n",
        "                geojson=shapesJson, \n",
        "                locations='ID',\n",
        "                hover_name = 'CIDADE',\n",
        "                color='cluster', \n",
        "                featureidkey=\"properties.codarea\",\n",
        "                )\n",
        "brazilMap.update_layout(mapbox_style=\"open-street-map\", \n",
        "                            mapbox_zoom=5, \n",
        "                            mapbox_center = {\"lat\": br_lat, \"lon\": br_lon},\n",
        "                            title=\"Clusters - KMeans\")\n",
        "brazilMap.show()"
      ],
      "metadata": {
        "id": "nU_13G_KoGvh"
      },
      "execution_count": null,
      "outputs": []
    },
    {
      "cell_type": "markdown",
      "source": [
        "Vamos fazer novamente para o MeanShift"
      ],
      "metadata": {
        "id": "oPj817nrrBbO"
      }
    },
    {
      "cell_type": "code",
      "source": [
        "from sklearn.cluster import MeanShift, estimate_bandwidth\n",
        "\n",
        "# The following bandwidth can be automatically detected using\n",
        "bandwidth = estimate_bandwidth(X, quantile=0.05, n_samples=500)\n",
        "\n",
        "cl = MeanShift(bandwidth=bandwidth, bin_seeding=True).fit(X)\n",
        "clusters = pd.DataFrame(cl.labels_, columns=['cluster'])\n",
        "detail = pd.merge(left=dfPIBDens.reset_index(), right=clusters, left_index=True, right_index=True)\n",
        "\n",
        "br_lat = -6\n",
        "br_lon = -38.0\n",
        "brazilMap = px.choropleth_mapbox(detail,\n",
        "                geojson=shapesJson, \n",
        "                locations='ID',\n",
        "                hover_name = 'CIDADE',\n",
        "                color='cluster', \n",
        "                featureidkey=\"properties.codarea\",\n",
        "                )\n",
        "brazilMap.update_layout(mapbox_style=\"open-street-map\", \n",
        "                            mapbox_zoom=5, \n",
        "                            mapbox_center = {\"lat\": br_lat, \"lon\": br_lon},\n",
        "                            title=\"Clusters - MeanShift\")\n",
        "brazilMap.show()"
      ],
      "metadata": {
        "id": "rBFIaprxPTFn"
      },
      "execution_count": null,
      "outputs": []
    },
    {
      "cell_type": "markdown",
      "source": [
        "Vamos tentar obter outra informação a partir da API do IBGE para clusterização. Testaremos a [taxa de escolarização](https://servicodados.ibge.gov.br/api/docs/agregados?versao=3#api-bq)"
      ],
      "metadata": {
        "id": "jcoMLvxCc9Du"
      }
    },
    {
      "cell_type": "code",
      "source": [
        "# Obtendo os dados de escolarização por grupo - ceará e pernambuco\n",
        "url = 'https://servicodados.ibge.gov.br/api/v3/agregados/3955/periodos/2010/variaveis/3930?localidades=N6[N3[23,26]]&classificacao=12085[100543]|58[95253]'\n",
        "response = requests.get(url)\n",
        "esc = response.json()\n",
        "for item in esc:\n",
        "  for key in item['resultados']:\n",
        "    escJson = key\n",
        "escJson.pop('classificacoes')\n",
        "dfEsc = pd.json_normalize(escJson['series'])\n",
        "dfEsc.drop(columns=[dfEsc.columns[1],\n",
        "                    dfEsc.columns[2],\n",
        "                    dfEsc.columns[3]],\n",
        "           inplace=True)\n",
        "dfEsc.rename(columns = {dfEsc.columns[0]:'ID', \n",
        "                       dfEsc.columns[1]: 'ESC'},\n",
        "             inplace = True)\n",
        "dfEsc.set_index('ID', inplace = True)\n",
        "dfEsc.head()\n"
      ],
      "metadata": {
        "id": "vRJyscWqV_Gr"
      },
      "execution_count": null,
      "outputs": []
    },
    {
      "cell_type": "code",
      "source": [
        "dfPIBDensEsc = pd.merge(dfPIBDens, dfEsc, on=\"ID\")\n",
        "dfPIBDensEsc.head()"
      ],
      "metadata": {
        "id": "xpnvjlz-gsrP"
      },
      "execution_count": null,
      "outputs": []
    },
    {
      "cell_type": "markdown",
      "source": [
        ""
      ],
      "metadata": {
        "id": "5-R53uXRsTJg"
      }
    },
    {
      "cell_type": "code",
      "source": [
        "X = dfPIBDensEsc[['PIB','DENS','ESC']].to_numpy()\n",
        "\n",
        "cl = KMeans(n_clusters=8, random_state=0).fit(X)\n",
        "clusters = pd.DataFrame(cl.labels_, columns=['cluster'])\n",
        "\n",
        "detail = pd.merge(dfPIBDensEsc.reset_index(), clusters, right_index=True, left_index=True)\n",
        "detail[['PIB','DENS','ESC']]=detail[['PIB','DENS','ESC']].astype(float)\n",
        "detail['cluster'] = detail['cluster'].astype(str)\n",
        "detail.head()"
      ],
      "metadata": {
        "id": "nLPZ1s7_hgc-"
      },
      "execution_count": null,
      "outputs": []
    },
    {
      "cell_type": "code",
      "source": [
        "import plotly.express as px\n",
        "from plotly.offline import init_notebook_mode, plot, iplot, download_plotlyjs\n",
        "br_lat = -6\n",
        "br_lon = -38.0\n",
        "brazilMap = px.choropleth_mapbox(detail,\n",
        "                geojson=shapesJson, \n",
        "                locations='ID',\n",
        "                hover_name = 'CIDADE',\n",
        "                color=\"cluster\", \n",
        "                featureidkey=\"properties.codarea\",\n",
        "                )\n",
        "brazilMap.update_layout(mapbox_style=\"open-street-map\", \n",
        "                            mapbox_zoom=5, \n",
        "                            mapbox_center = {\"lat\": br_lat, \"lon\": br_lon},\n",
        "                            title=\"Clusters - KMeans: 3 features\")\n",
        "brazilMap.show()"
      ],
      "metadata": {
        "id": "7q5FEP0mhy9l"
      },
      "execution_count": null,
      "outputs": []
    }
  ],
  "metadata": {
    "kernelspec": {
      "display_name": "Python 3",
      "language": "python",
      "name": "python3"
    },
    "language_info": {
      "codemirror_mode": {
        "name": "ipython",
        "version": 3
      },
      "file_extension": ".py",
      "mimetype": "text/x-python",
      "name": "python",
      "nbconvert_exporter": "python",
      "pygments_lexer": "ipython3",
      "version": "3.7.6"
    },
    "colab": {
      "name": "5-2 API - Mapas.ipynb",
      "provenance": []
    }
  },
  "nbformat": 4,
  "nbformat_minor": 0
}