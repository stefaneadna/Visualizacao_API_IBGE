{
  "nbformat": 4,
  "nbformat_minor": 0,
  "metadata": {
    "colab": {
      "name": "5-3 - Multiplas APIs.ipynb",
      "provenance": []
    },
    "kernelspec": {
      "name": "python3",
      "display_name": "Python 3"
    },
    "language_info": {
      "name": "python"
    }
  },
  "cells": [
    {
      "cell_type": "markdown",
      "source": [
        "# Aula 5.3: Conhecendo as APIs do BACEN\n",
        "\n",
        "\n",
        "## O Portal\n",
        "O [Portal Brasileiro de Dados Abertos do Banco Central](https://dadosabertos.bcb.gov.br/dataset) é o meio utilizado pelo BC para disponibilizar dados e informações públicas. Ele foi criado para auxiliar os usuários a localizar os conjuntos de dados de seu interesse, entender a estrutura desses dados e encontrar o caminho para acessá-los. Uma vez localizado o dado e entendida a sua estrutura, o usuário poderá utilizar alguma ferramenta de análise ou algum software de programação para acessar os dados propriamente ditos. O Portal contém dados em sua forma bruta, sem formatações visuais, para facilitar o processamento por computadores.\n",
        "\n",
        "\n",
        "## Dados Disponíveis\n",
        "São dados armazenados em bases de dados mantidas pelo Banco Central do Brasil, desde que sobre elas não recaia hipótese de restrição de acesso.\n",
        "\n",
        "Também estão disponíveis os Dados do Sistema Financeiro Nacional, constituídos por informações de interesse público não sujeitas a hipóteses de sigilo, disponibilizadas em formato aberto pelas instituições financeiras e demais instituições autorizadas a funcionar pelo BC, com o objetivo de promover a competitividade, transparência e inovação no setor financeiro."
      ],
      "metadata": {
        "id": "Ik0wNktvORl0"
      }
    },
    {
      "cell_type": "code",
      "execution_count": null,
      "metadata": {
        "id": "UP-XJjCylIRj"
      },
      "outputs": [],
      "source": [
        "import requests                    # api module\n",
        "import json\n",
        "import pandas as pd\n",
        "\n",
        "#Obtendo os dados\n",
        "url = 'https://olinda.bcb.gov.br/olinda/servico/Informes_Agencias/versao/v1/odata/Agencias?$format=json&$select=Segmento,MunicipioIbge,Municipio,UF'\n",
        "response = requests.get(url)\n",
        "#bcbJson = response.json()\n",
        "print(response)"
      ]
    },
    {
      "cell_type": "markdown",
      "source": [
        "É sempre bom checar se o retono da requisição foi 200 (OK)."
      ],
      "metadata": {
        "id": "vtKfuvL4tvRI"
      }
    },
    {
      "cell_type": "code",
      "source": [
        "agencias = response.json()\n",
        "print(agencias)"
      ],
      "metadata": {
        "id": "nmtja8TQmgie"
      },
      "execution_count": null,
      "outputs": []
    },
    {
      "cell_type": "markdown",
      "source": [
        "O resultado da requisição contém informações sobre instituições bancárias no Brasil.Vamos carregar o resultado da requisição em um Dataframe"
      ],
      "metadata": {
        "id": "gP_4ma-8qety"
      }
    },
    {
      "cell_type": "code",
      "source": [
        "dfBancos = pd.json_normalize(agencias['value'])\n",
        "dfBancos.head()"
      ],
      "metadata": {
        "id": "z0x5jGN2pkfU"
      },
      "execution_count": null,
      "outputs": []
    },
    {
      "cell_type": "code",
      "source": [
        "dfBancos.describe()"
      ],
      "metadata": {
        "id": "Y8K7FXsDpsZS"
      },
      "execution_count": null,
      "outputs": []
    },
    {
      "cell_type": "markdown",
      "source": [
        "Obseve que existem 21 categorias para segmento. Vamos calcular a quantidade de instituiçõe de cada tipo, nas cidades. Primeiro vamos recuperar uma lista com os tipos de instituição"
      ],
      "metadata": {
        "id": "MUPwksYvwzbc"
      }
    },
    {
      "cell_type": "code",
      "source": [
        "fullNameList = pd.unique(dfBancos['Segmento'])\n",
        "initialList = []\n",
        "for names in fullNameList:\n",
        "  initialList.append(''.join([x[0] for x in names.split(' ')]))\n",
        "\n",
        "instSigla = dict(zip(initialList, fullNameList))"
      ],
      "metadata": {
        "id": "Pqf1vZ0dreHS"
      },
      "execution_count": null,
      "outputs": []
    },
    {
      "cell_type": "markdown",
      "source": [
        "Vamos recuperar as informações da API do IBGE:"
      ],
      "metadata": {
        "id": "tiLxlir4v9eb"
      }
    },
    {
      "cell_type": "code",
      "source": [
        "# Obtendo os dados per capita - ceará e pernambuco\n",
        "url = 'https://servicodados.ibge.gov.br/api/v3/agregados/3974/periodos/2010/variaveis/3948?localidades=N6[N3[23,26]]&classificacao=12085[100543]|58[95253]'\n",
        "response = requests.get(url)\n",
        "pib = response.json()\n",
        "for item in pib:\n",
        "  for key in item['resultados']:\n",
        "    pibJson = key\n",
        "pibJson.pop('classificacoes')\n",
        "dfPIB = pd.json_normalize(pibJson['series'])\n",
        "dfPIB[['CIDADE','UF']] = dfPIB[dfPIB.columns[3]].str.split(' - ',1).tolist()\n",
        "dfPIB.rename(columns = {dfPIB.columns[0]:'ID', \n",
        "                        dfPIB.columns[-3]: 'PIB'},\n",
        "             inplace = True)\n",
        "dfPIB.set_index('ID', inplace = True)\n",
        "\n",
        "new_columns = (dfPIB.columns.drop('PIB').tolist()) + ['PIB']\n",
        "dfPIB = dfPIB[new_columns]\n",
        "dfPIB.drop(dfPIB.columns[0:3], axis=1,inplace=True)\n",
        "\n",
        "# Obtendo a densidade populacional: Ceará e Pernambuco\n",
        "url = \"https://servicodados.ibge.gov.br/api/v3/agregados/1301/periodos/2010/variaveis/616?localidades=N6[N3[23,26]]\"\n",
        "\n",
        "response = requests.get(url)\n",
        "dens = response.json()\n",
        "for item in dens:\n",
        "  for key in item['resultados']:\n",
        "    densJson = key\n",
        "densJson.pop('classificacoes')\n",
        "dfDens = pd.json_normalize(densJson['series'])\n",
        "dfDens.rename(columns = {dfDens.columns[0]:'ID', \n",
        "                         dfDens.columns[-1]: 'DENS'},\n",
        "             inplace = True)\n",
        "dfDens.set_index('ID', inplace = True)\n",
        "dfDens.drop(dfDens.columns[0:3], axis=1,inplace=True)\n",
        "\n",
        "\n",
        "# Obtendo os dados de escolarização por grupo - ceará e pernambuco\n",
        "url = 'https://servicodados.ibge.gov.br/api/v3/agregados/3955/periodos/2010/variaveis/3930?localidades=N6[N3[23,26]]&classificacao=12085[100543]|58[95253]'\n",
        "response = requests.get(url)\n",
        "esc = response.json()\n",
        "for item in esc:\n",
        "  for key in item['resultados']:\n",
        "    escJson = key\n",
        "escJson.pop('classificacoes')\n",
        "dfEsc = pd.json_normalize(escJson['series'])\n",
        "\n",
        "dfEsc.rename(columns = {dfEsc.columns[0]:'ID',\n",
        "                       dfEsc.columns[-1]: 'ESC'},\n",
        "             inplace = True)\n",
        "dfEsc.set_index('ID', inplace = True)\n",
        "dfEsc.drop(dfEsc.columns[0:3], axis=1,inplace=True)"
      ],
      "metadata": {
        "id": "4H5EV0qP03EZ"
      },
      "execution_count": null,
      "outputs": []
    },
    {
      "cell_type": "code",
      "source": [
        "dfPIB.head()"
      ],
      "metadata": {
        "id": "c_kKbsOR54ky"
      },
      "execution_count": null,
      "outputs": []
    },
    {
      "cell_type": "code",
      "source": [
        "dfDens.head()"
      ],
      "metadata": {
        "id": "3ZY0wpkT553H"
      },
      "execution_count": null,
      "outputs": []
    },
    {
      "cell_type": "code",
      "source": [
        "dfEsc.head()"
      ],
      "metadata": {
        "id": "jXPV4FlI6FZw"
      },
      "execution_count": null,
      "outputs": []
    },
    {
      "cell_type": "markdown",
      "source": [
        "Vamos criar um dataframe único:"
      ],
      "metadata": {
        "id": "w6qGPPBzwrEe"
      }
    },
    {
      "cell_type": "code",
      "source": [
        "df = dfPIB.merge(dfDens.merge(dfEsc,left_index=True, right_index=True),left_index=True, right_index=True)\n",
        "df.head()"
      ],
      "metadata": {
        "id": "enqUrots2teZ"
      },
      "execution_count": null,
      "outputs": []
    },
    {
      "cell_type": "markdown",
      "source": [
        "Ótimo. Agora vamos retornar ao dataframe dos dados bancários. Iremos recuperar apenas os dados dos estados CE e PE:"
      ],
      "metadata": {
        "id": "YtB8zLLewwQj"
      }
    },
    {
      "cell_type": "code",
      "source": [
        "dfBancos = pd.concat([dfBancos[dfBancos['UF']=='CE'],dfBancos[dfBancos['UF']=='PE']])\n",
        "dfBancos.head()"
      ],
      "metadata": {
        "id": "s0_ijf1J8y7g"
      },
      "execution_count": null,
      "outputs": []
    },
    {
      "cell_type": "markdown",
      "source": [
        "Vamos utilizar o método `value_counts` para verificar a quantidade de amostras por segmento:"
      ],
      "metadata": {
        "id": "t8TXxCGvw6iZ"
      }
    },
    {
      "cell_type": "code",
      "source": [
        "dfBancos.value_counts(subset = 'Segmento')"
      ],
      "metadata": {
        "id": "UZhfLIP721Jb"
      },
      "execution_count": null,
      "outputs": []
    },
    {
      "cell_type": "code",
      "source": [
        "dfBancos.describe()"
      ],
      "metadata": {
        "id": "dLQziotC-fK2"
      },
      "execution_count": null,
      "outputs": []
    },
    {
      "cell_type": "markdown",
      "source": [
        "Certo, temos apenas 9 classes de segmento para CE e PE. Vamos criar uma lista de abreviaturas para adicionar ao dataframe que já contem os dados de PIB, Densidade Populacional e Escolaridade:"
      ],
      "metadata": {
        "id": "QNQkoYU7xP8y"
      }
    },
    {
      "cell_type": "code",
      "source": [
        "fullNameList = pd.unique(dfBancos['Segmento'])\n",
        "initialList = []\n",
        "for names in fullNameList:\n",
        "  initialList.append(''.join([x[0] for x in names.split(' ')]))"
      ],
      "metadata": {
        "id": "StmnthD--vyH"
      },
      "execution_count": null,
      "outputs": []
    },
    {
      "cell_type": "markdown",
      "source": [
        "`fullNameList`: Corresponde às classes dos Segmentos\n",
        "\n",
        "`initialList`: Corresponde às iniciais dos Segmentos"
      ],
      "metadata": {
        "id": "-ZI82HhixgUW"
      }
    },
    {
      "cell_type": "markdown",
      "source": [
        "Agora, precisamos contar quantas vezes cada classe é observada em cada cidade. Quantos Bancos Múltiplos existem na cidade de Juazeiro do Norte-CE? Para isso, vamos usar o método `groupby`:"
      ],
      "metadata": {
        "id": "yDcC_m8pxspt"
      }
    },
    {
      "cell_type": "code",
      "source": [
        "dfTest = dfBancos\n",
        "for i in range(0,len(initialList)):\n",
        "  dfTest[initialList[i]] = dfTest[ dfTest['Segmento']== fullNameList[i]].groupby(['MunicipioIbge'])['Segmento'].transform('count')"
      ],
      "metadata": {
        "id": "enzY0MEr-ytO"
      },
      "execution_count": null,
      "outputs": []
    },
    {
      "cell_type": "markdown",
      "source": [
        "O que fizemos aqui? Buscamos cada classe de segmento no DataFrame e agrupamos po Município. Por fim, usamos `transform('count')` para contabilizar a quantidade de itens. Adicionamos essas contagens a novas colunas das iniciais de cada categoria."
      ],
      "metadata": {
        "id": "GkblVMh3yCWF"
      }
    },
    {
      "cell_type": "code",
      "source": [
        "dfTest.head()"
      ],
      "metadata": {
        "id": "MBfRp5D_yW4D"
      },
      "execution_count": null,
      "outputs": []
    },
    {
      "cell_type": "markdown",
      "source": [
        "O processo acabou linhas colunas duplicadas. Vamos remover os segmentos duplicados em cada município:"
      ],
      "metadata": {
        "id": "OHstfl7-yXPd"
      }
    },
    {
      "cell_type": "code",
      "source": [
        "dfTest = dfTest.drop_duplicates(subset=['Segmento','MunicipioIbge'])\n",
        "dfTest.head()"
      ],
      "metadata": {
        "id": "aSbiAlZCB7oL"
      },
      "execution_count": null,
      "outputs": []
    },
    {
      "cell_type": "markdown",
      "source": [
        "Ótimo. Porém, agora temos NaN nas colunas que não puderam ser preenchidas. Vamos usar o `fillna(0)` para lidar com esse problema."
      ],
      "metadata": {
        "id": "U2Tsk5TZyvgE"
      }
    },
    {
      "cell_type": "code",
      "source": [
        "dfTest=dfTest.fillna(0)\n",
        "dfTest.head()"
      ],
      "metadata": {
        "id": "FYI2nJmdDprn"
      },
      "execution_count": null,
      "outputs": []
    },
    {
      "cell_type": "markdown",
      "source": [
        "Vamos renomear as colunas `Segmento`,  `MunicipioIbge` e  `Municipio` para padronizar com o DataFrame do IBGE:"
      ],
      "metadata": {
        "id": "aUy9Ze_RzIDj"
      }
    },
    {
      "cell_type": "code",
      "source": [
        "dfTest.rename(columns = {dfTest.columns[1]:'ID',\n",
        "                       dfTest.columns[2]: 'CIDADE'},\n",
        "             inplace = True)\n",
        "dfTest.drop(['Segmento'], axis=1,inplace=True)\n",
        "dfTest.set_index('ID', inplace = True)\n",
        "dfTest.head()"
      ],
      "metadata": {
        "id": "x9Qeh8FhD3-K"
      },
      "execution_count": null,
      "outputs": []
    },
    {
      "cell_type": "markdown",
      "source": [
        "Agora precisamos usar o `groupby` novamente para juntar linhas da mesma cidade:"
      ],
      "metadata": {
        "id": "XdANtsOnzd5u"
      }
    },
    {
      "cell_type": "code",
      "source": [
        "dfTest = dfTest.groupby(['ID'])[initialList].sum()\n",
        "dfTest.head()"
      ],
      "metadata": {
        "id": "dzNHnarcFG9Q"
      },
      "execution_count": null,
      "outputs": []
    },
    {
      "cell_type": "markdown",
      "source": [
        "Conseguimos construir uma tabela que relaciona as classes (itens) dos segmentos à quantidade em cada cidade. Vamos verificar as intituições na cidade de Fortaleza:"
      ],
      "metadata": {
        "id": "g9NIjUhjGr_m"
      }
    },
    {
      "cell_type": "code",
      "source": [
        "fullNameList"
      ],
      "metadata": {
        "id": "ia4E9l6r0Zf9"
      },
      "execution_count": null,
      "outputs": []
    },
    {
      "cell_type": "code",
      "source": [
        "dfTest[dfTest.index == '2304400']"
      ],
      "metadata": {
        "id": "5UQySOa_FNvY"
      },
      "execution_count": null,
      "outputs": []
    },
    {
      "cell_type": "markdown",
      "source": [
        "Após esse pré-processamento, vamos concatenar os datasets do IBGE e do Banco Central:"
      ],
      "metadata": {
        "id": "UdPR01WP0gYz"
      }
    },
    {
      "cell_type": "code",
      "source": [
        "df = df.merge(dfTest,left_index=True, right_index=True, how='outer').fillna(0)\n",
        "df.head()"
      ],
      "metadata": {
        "id": "o7LMIbPQGxDN"
      },
      "execution_count": null,
      "outputs": []
    },
    {
      "cell_type": "code",
      "source": [
        "df.describe()"
      ],
      "metadata": {
        "id": "ZcOW15BCJe2g"
      },
      "execution_count": null,
      "outputs": []
    },
    {
      "cell_type": "markdown",
      "source": [
        "Para Clustering, podemos começar pelas colunas a seguir:"
      ],
      "metadata": {
        "id": "tsLXSnuL0vXV"
      }
    },
    {
      "cell_type": "code",
      "source": [
        "print(df.columns[2:].tolist())"
      ],
      "metadata": {
        "id": "MJvU3YL4H--P"
      },
      "execution_count": null,
      "outputs": []
    },
    {
      "cell_type": "markdown",
      "source": [
        "Vamos escolher as cinco primeiras classes para clusterização:"
      ],
      "metadata": {
        "id": "PyFxaJkf1V2n"
      }
    },
    {
      "cell_type": "code",
      "source": [
        "cols = df.columns[2:8].tolist()\n",
        "X = df[cols].to_numpy()\n",
        "print(X)"
      ],
      "metadata": {
        "id": "vpgIGJSNLjuA"
      },
      "execution_count": null,
      "outputs": []
    },
    {
      "cell_type": "code",
      "source": [
        "df[cols]=df[cols].astype(float)\n",
        "X = df[cols].to_numpy()\n",
        "print(X)"
      ],
      "metadata": {
        "id": "GX9AI4_ALk2Q"
      },
      "execution_count": null,
      "outputs": []
    },
    {
      "cell_type": "markdown",
      "source": [
        "Executando o KMeans com 8 clusters:"
      ],
      "metadata": {
        "id": "oqeIvMPF3_lf"
      }
    },
    {
      "cell_type": "code",
      "source": [
        "from sklearn.cluster import KMeans\n",
        "cl = KMeans(n_clusters=8, random_state=0).fit(X)\n",
        "clusters = pd.DataFrame(cl.labels_, columns=['cluster'])\n",
        "detail = pd.merge(df.reset_index(), clusters, right_index=True, left_index=True)\n",
        "detail['cluster'] = detail['cluster'].astype(str)\n",
        "detail.head()"
      ],
      "metadata": {
        "id": "et_CyL0tH3kd"
      },
      "execution_count": null,
      "outputs": []
    },
    {
      "cell_type": "markdown",
      "source": [
        "Vamos obter novamente os shapes:"
      ],
      "metadata": {
        "id": "R6MlO82Q2Oae"
      }
    },
    {
      "cell_type": "code",
      "source": [
        "#Shapes CE\n",
        "url = 'https://servicodados.ibge.gov.br/api/v3/malhas/estados/23?formato=application/vnd.geo+json&qualidade=minima&intrarregiao=municipio'\n",
        "response = requests.get(url)\n",
        "shapesJsonCE = response.json()\n",
        "\n",
        "\n",
        "#Shapes PE\n",
        "url = 'https://servicodados.ibge.gov.br/api/v3/malhas/estados/26?formato=application/vnd.geo+json&qualidade=minima&intrarregiao=municipio'\n",
        "response = requests.get(url)\n",
        "shapesJsonPE = response.json()\n",
        "shapesJson = shapesJsonCE\n",
        "shapesJson['features'] += shapesJsonPE['features']"
      ],
      "metadata": {
        "id": "xhUDkMvyIrVX"
      },
      "execution_count": null,
      "outputs": []
    },
    {
      "cell_type": "code",
      "source": [
        "import plotly.express as px\n",
        "from plotly.offline import init_notebook_mode, plot, iplot, download_plotlyjs\n",
        "br_lat = -6\n",
        "br_lon = -38.0\n",
        "brazilMap = px.choropleth_mapbox(detail,\n",
        "                geojson=shapesJson, \n",
        "                locations='ID',\n",
        "                hover_name = 'CIDADE',\n",
        "                color=\"cluster\", \n",
        "                featureidkey=\"properties.codarea\",\n",
        "                )\n",
        "brazilMap.update_layout(mapbox_style=\"open-street-map\", \n",
        "                            mapbox_zoom=5, \n",
        "                            mapbox_center = {\"lat\": br_lat, \"lon\": br_lon},\n",
        "                            title=\"Clusters - Kmeans\")\n",
        "brazilMap.show()"
      ],
      "metadata": {
        "id": "Ssix25meIfmf"
      },
      "execution_count": null,
      "outputs": []
    }
  ]
}